{
 "cells": [
  {
   "cell_type": "markdown",
   "id": "79cf7e9f",
   "metadata": {},
   "source": [
    "##BELOW IS A WAY TO CONVERT PT TO ONNX"
   ]
  },
  {
   "cell_type": "markdown",
   "id": "5dce7f5a",
   "metadata": {},
   "source": [
    "MAKE SURE YOUR PT FILE is in the YOLOv6 folder (copy paste it from the run folder)"
   ]
  },
  {
   "cell_type": "code",
   "execution_count": 1,
   "id": "bf0aa588",
   "metadata": {},
   "outputs": [
    {
     "name": "stdout",
     "output_type": "stream",
     "text": [
      "c:\\ITB\\KP\\kp\\github\\fishcounter\\training\\FISHCOUNTER_TRAINING\\YOLOv6\n"
     ]
    },
    {
     "name": "stderr",
     "output_type": "stream",
     "text": [
      "C:\\Users\\Arvin Nathaniel\\AppData\\Roaming\\Python\\Python311\\site-packages\\IPython\\core\\magics\\osm.py:417: UserWarning: This is now an optional IPython functionality, setting dhist requires you to install the `pickleshare` library.\n",
      "  self.shell.db['dhist'] = compress_dhist(dhist)[-100:]\n"
     ]
    },
    {
     "name": "stdout",
     "output_type": "stream",
     "text": [
      "Namespace(weights='best_ckpt.pt', img_size=[640, 640], batch_size=1, half=False, inplace=True, device='cpu')\n"
     ]
    },
    {
     "name": "stderr",
     "output_type": "stream",
     "text": [
      "Loading checkpoint from best_ckpt.pt\n",
      "c:\\ITB\\KP\\kp\\github\\fishcounter\\training\\FISHCOUNTER_TRAINING\\YOLOv6\\yolov6\\utils\\checkpoint.py:25: FutureWarning: You are using `torch.load` with `weights_only=False` (the current default value), which uses the default pickle module implicitly. It is possible to construct malicious pickle data which will execute arbitrary code during unpickling (See https://github.com/pytorch/pytorch/blob/main/SECURITY.md#untrusted-models for more details). In a future release, the default value for `weights_only` will be flipped to `True`. This limits the functions that could be executed during unpickling. Arbitrary objects will no longer be allowed to be loaded via this mode unless they are explicitly allowlisted by the user via `torch.serialization.add_safe_globals`. We recommend you start setting `weights_only=True` for any use case where you don't have full control of the loaded file. Please open an issue on GitHub for any issues related to this experimental feature.\n",
      "  ckpt = torch.load(weights, map_location=map_location)  # load\n",
      "\n",
      "Fusing model...\n",
      "c:\\Users\\Arvin Nathaniel\\AppData\\Local\\Programs\\Python\\Python311\\Lib\\site-packages\\torch\\functional.py:534: UserWarning: torch.meshgrid: in an upcoming release, it will be required to pass the indexing argument. (Triggered internally at C:\\actions-runner\\_work\\pytorch\\pytorch\\builder\\windows\\pytorch\\aten\\src\\ATen\\native\\TensorShape.cpp:3596.)\n",
      "  return _VF.meshgrid(tensors, **kwargs)  # type: ignore[attr-defined]\n",
      "\n",
      "Starting to export ONNX with rknn-optimized...\n",
      "c:\\ITB\\KP\\kp\\github\\fishcounter\\training\\FISHCOUNTER_TRAINING\\YOLOv6\\yolov6\\assigners\\anchor_generator.py:12: TracerWarning: Iterating over a tensor might cause the trace to be incorrect. Passing a tensor of different shape won't change the number of iterations executed (and might lead to errors or silently give incorrect results).\n",
      "  for i, stride in enumerate(fpn_strides):\n",
      "ONNX with rknn-optimized export success, saved as best_ckpt.onnx\n"
     ]
    }
   ],
   "source": [
    "# Step 1: Change directory to the main YOLOv6 folder using the '%cd' magic command adjust the path as necessary\n",
    "%cd \"c:\\ITB\\KP\\kp\\github\\fishcounter\\training\\FISHCOUNTER_TRAINING\\YOLOv6\\\"\n",
    "\n",
    "# Step 2: Now run the export script using its relative path\n",
    "!python -m deploy.RKNN.export_onnx_for_rknn \\\n",
    "  --weights best_ckpt.pt \\\n",
    "  --img-size 640 640 \\\n",
    "  --batch-size 1 \\\n",
    "  --device cpu \\\n",
    "  --inplace"
   ]
  },
  {
   "cell_type": "markdown",
   "id": "fda031de",
   "metadata": {},
   "source": [
    "FOR RKNN YOU NEED TO USE LINUX TO CONVERT from ONNX to RKNN read the instruction.md"
   ]
  }
 ],
 "metadata": {
  "kernelspec": {
   "display_name": "Python 3",
   "language": "python",
   "name": "python3"
  },
  "language_info": {
   "codemirror_mode": {
    "name": "ipython",
    "version": 3
   },
   "file_extension": ".py",
   "mimetype": "text/x-python",
   "name": "python",
   "nbconvert_exporter": "python",
   "pygments_lexer": "ipython3",
   "version": "3.11.0"
  }
 },
 "nbformat": 4,
 "nbformat_minor": 5
}
